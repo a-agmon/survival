{
 "cells": [
  {
   "cell_type": "code",
   "execution_count": 1,
   "metadata": {},
   "outputs": [],
   "source": [
    "import pandas as pd\n",
    "import numpy as np\n",
    "import matplotlib.pyplot as plt\n"
   ]
  },
  {
   "cell_type": "code",
   "execution_count": 2,
   "metadata": {},
   "outputs": [],
   "source": [
    "#visualization functions\n",
    "\n",
    "%matplotlib inline\n",
    "plt.rcParams['figure.figsize'] = [8, 6]\n",
    "\n",
    "def set_grid_and_ticks(ax, leng):\n",
    "    perc_ticks = np.arange(0, 1, 0.05)\n",
    "    days_ticks = np.arange(0, leng, 1)\n",
    "    a = ax.set_xticks(days_ticks)\n",
    "    a = ax.set_yticks(perc_ticks)\n",
    "    ax.grid(alpha=0.5)\n",
    "    return ax"
   ]
  },
  {
   "cell_type": "code",
   "execution_count": 3,
   "metadata": {},
   "outputs": [],
   "source": [
    "df = pd.read_csv('/users/alonag/lt_surv_c.csv')"
   ]
  },
  {
   "cell_type": "code",
   "execution_count": 4,
   "metadata": {},
   "outputs": [
    {
     "data": {
      "text/html": [
       "<div>\n",
       "<style scoped>\n",
       "    .dataframe tbody tr th:only-of-type {\n",
       "        vertical-align: middle;\n",
       "    }\n",
       "\n",
       "    .dataframe tbody tr th {\n",
       "        vertical-align: top;\n",
       "    }\n",
       "\n",
       "    .dataframe thead th {\n",
       "        text-align: right;\n",
       "    }\n",
       "</style>\n",
       "<table border=\"1\" class=\"dataframe\">\n",
       "  <thead>\n",
       "    <tr style=\"text-align: right;\">\n",
       "      <th></th>\n",
       "      <th>req_day</th>\n",
       "      <th>days_with_bad_req</th>\n",
       "      <th>days_since_last_activity</th>\n",
       "      <th>event</th>\n",
       "      <th>bad_req_days_rate</th>\n",
       "    </tr>\n",
       "  </thead>\n",
       "  <tbody>\n",
       "    <tr>\n",
       "      <th>3325</th>\n",
       "      <td>1.000000</td>\n",
       "      <td>1</td>\n",
       "      <td>24</td>\n",
       "      <td>1</td>\n",
       "      <td>100.0</td>\n",
       "    </tr>\n",
       "    <tr>\n",
       "      <th>22472</th>\n",
       "      <td>1.666667</td>\n",
       "      <td>3</td>\n",
       "      <td>11</td>\n",
       "      <td>1</td>\n",
       "      <td>100.0</td>\n",
       "    </tr>\n",
       "    <tr>\n",
       "      <th>41650</th>\n",
       "      <td>3.000000</td>\n",
       "      <td>1</td>\n",
       "      <td>23</td>\n",
       "      <td>1</td>\n",
       "      <td>100.0</td>\n",
       "    </tr>\n",
       "    <tr>\n",
       "      <th>4182</th>\n",
       "      <td>1.000000</td>\n",
       "      <td>1</td>\n",
       "      <td>24</td>\n",
       "      <td>1</td>\n",
       "      <td>100.0</td>\n",
       "    </tr>\n",
       "    <tr>\n",
       "      <th>3942</th>\n",
       "      <td>1.600000</td>\n",
       "      <td>5</td>\n",
       "      <td>18</td>\n",
       "      <td>1</td>\n",
       "      <td>100.0</td>\n",
       "    </tr>\n",
       "    <tr>\n",
       "      <th>11503</th>\n",
       "      <td>1.000000</td>\n",
       "      <td>1</td>\n",
       "      <td>3</td>\n",
       "      <td>0</td>\n",
       "      <td>50.0</td>\n",
       "    </tr>\n",
       "    <tr>\n",
       "      <th>22598</th>\n",
       "      <td>2.000000</td>\n",
       "      <td>2</td>\n",
       "      <td>22</td>\n",
       "      <td>1</td>\n",
       "      <td>100.0</td>\n",
       "    </tr>\n",
       "    <tr>\n",
       "      <th>16678</th>\n",
       "      <td>1.000000</td>\n",
       "      <td>1</td>\n",
       "      <td>23</td>\n",
       "      <td>1</td>\n",
       "      <td>100.0</td>\n",
       "    </tr>\n",
       "    <tr>\n",
       "      <th>14322</th>\n",
       "      <td>1.000000</td>\n",
       "      <td>1</td>\n",
       "      <td>23</td>\n",
       "      <td>1</td>\n",
       "      <td>100.0</td>\n",
       "    </tr>\n",
       "    <tr>\n",
       "      <th>55536</th>\n",
       "      <td>1.000000</td>\n",
       "      <td>1</td>\n",
       "      <td>24</td>\n",
       "      <td>1</td>\n",
       "      <td>100.0</td>\n",
       "    </tr>\n",
       "  </tbody>\n",
       "</table>\n",
       "</div>"
      ],
      "text/plain": [
       "        req_day  days_with_bad_req  days_since_last_activity  event  \\\n",
       "3325   1.000000                  1                        24      1   \n",
       "22472  1.666667                  3                        11      1   \n",
       "41650  3.000000                  1                        23      1   \n",
       "4182   1.000000                  1                        24      1   \n",
       "3942   1.600000                  5                        18      1   \n",
       "11503  1.000000                  1                         3      0   \n",
       "22598  2.000000                  2                        22      1   \n",
       "16678  1.000000                  1                        23      1   \n",
       "14322  1.000000                  1                        23      1   \n",
       "55536  1.000000                  1                        24      1   \n",
       "\n",
       "       bad_req_days_rate  \n",
       "3325               100.0  \n",
       "22472              100.0  \n",
       "41650              100.0  \n",
       "4182               100.0  \n",
       "3942               100.0  \n",
       "11503               50.0  \n",
       "22598              100.0  \n",
       "16678              100.0  \n",
       "14322              100.0  \n",
       "55536              100.0  "
      ]
     },
     "execution_count": 4,
     "metadata": {},
     "output_type": "execute_result"
    }
   ],
   "source": [
    "df.columns = ['ID','req_day','bad_req_day',\n",
    "              'bad_req_rate','user_life','days_with_bad_req',\n",
    "              'active_days','non_active_days','days_since_last_activity']\n",
    "\n",
    "# add event col - when the last activity was more than a week ago we treat the user as 'dead'\n",
    "df['event'] = [1 if num > 10 else 0 for num in df['days_since_last_activity']]\n",
    "# turn this into percentage\n",
    "df['bad_req_days_rate'] = df['days_with_bad_req'] / df['active_days'] * 100\n",
    "#clean up\n",
    "df = df.drop(['ID','bad_req_day','bad_req_rate', 'user_life','non_active_days','active_days'], axis=1)\n",
    "\n",
    "df.sample(n=10)"
   ]
  },
  {
   "cell_type": "code",
   "execution_count": 5,
   "metadata": {},
   "outputs": [
    {
     "data": {
      "text/html": [
       "<div>\n",
       "<style scoped>\n",
       "    .dataframe tbody tr th:only-of-type {\n",
       "        vertical-align: middle;\n",
       "    }\n",
       "\n",
       "    .dataframe tbody tr th {\n",
       "        vertical-align: top;\n",
       "    }\n",
       "\n",
       "    .dataframe thead th {\n",
       "        text-align: right;\n",
       "    }\n",
       "</style>\n",
       "<table border=\"1\" class=\"dataframe\">\n",
       "  <thead>\n",
       "    <tr style=\"text-align: right;\">\n",
       "      <th></th>\n",
       "      <th>req_day</th>\n",
       "      <th>days_with_bad_req</th>\n",
       "      <th>days_since_last_activity</th>\n",
       "      <th>event</th>\n",
       "      <th>bad_req_days_rate</th>\n",
       "    </tr>\n",
       "  </thead>\n",
       "  <tbody>\n",
       "    <tr>\n",
       "      <th>count</th>\n",
       "      <td>59733.000000</td>\n",
       "      <td>59733.000000</td>\n",
       "      <td>59733.000000</td>\n",
       "      <td>59733.000000</td>\n",
       "      <td>59733.000000</td>\n",
       "    </tr>\n",
       "    <tr>\n",
       "      <th>mean</th>\n",
       "      <td>1.614195</td>\n",
       "      <td>2.030553</td>\n",
       "      <td>20.985067</td>\n",
       "      <td>0.980162</td>\n",
       "      <td>98.648492</td>\n",
       "    </tr>\n",
       "    <tr>\n",
       "      <th>std</th>\n",
       "      <td>1.941858</td>\n",
       "      <td>1.659464</td>\n",
       "      <td>4.564476</td>\n",
       "      <td>0.139446</td>\n",
       "      <td>8.470838</td>\n",
       "    </tr>\n",
       "    <tr>\n",
       "      <th>min</th>\n",
       "      <td>1.000000</td>\n",
       "      <td>0.000000</td>\n",
       "      <td>0.000000</td>\n",
       "      <td>0.000000</td>\n",
       "      <td>0.000000</td>\n",
       "    </tr>\n",
       "    <tr>\n",
       "      <th>25%</th>\n",
       "      <td>1.000000</td>\n",
       "      <td>1.000000</td>\n",
       "      <td>20.000000</td>\n",
       "      <td>1.000000</td>\n",
       "      <td>100.000000</td>\n",
       "    </tr>\n",
       "    <tr>\n",
       "      <th>50%</th>\n",
       "      <td>1.000000</td>\n",
       "      <td>1.000000</td>\n",
       "      <td>23.000000</td>\n",
       "      <td>1.000000</td>\n",
       "      <td>100.000000</td>\n",
       "    </tr>\n",
       "    <tr>\n",
       "      <th>75%</th>\n",
       "      <td>1.571429</td>\n",
       "      <td>2.000000</td>\n",
       "      <td>24.000000</td>\n",
       "      <td>1.000000</td>\n",
       "      <td>100.000000</td>\n",
       "    </tr>\n",
       "    <tr>\n",
       "      <th>max</th>\n",
       "      <td>57.640000</td>\n",
       "      <td>14.000000</td>\n",
       "      <td>24.000000</td>\n",
       "      <td>1.000000</td>\n",
       "      <td>100.000000</td>\n",
       "    </tr>\n",
       "  </tbody>\n",
       "</table>\n",
       "</div>"
      ],
      "text/plain": [
       "            req_day  days_with_bad_req  days_since_last_activity  \\\n",
       "count  59733.000000       59733.000000              59733.000000   \n",
       "mean       1.614195           2.030553                 20.985067   \n",
       "std        1.941858           1.659464                  4.564476   \n",
       "min        1.000000           0.000000                  0.000000   \n",
       "25%        1.000000           1.000000                 20.000000   \n",
       "50%        1.000000           1.000000                 23.000000   \n",
       "75%        1.571429           2.000000                 24.000000   \n",
       "max       57.640000          14.000000                 24.000000   \n",
       "\n",
       "              event  bad_req_days_rate  \n",
       "count  59733.000000       59733.000000  \n",
       "mean       0.980162          98.648492  \n",
       "std        0.139446           8.470838  \n",
       "min        0.000000           0.000000  \n",
       "25%        1.000000         100.000000  \n",
       "50%        1.000000         100.000000  \n",
       "75%        1.000000         100.000000  \n",
       "max        1.000000         100.000000  "
      ]
     },
     "execution_count": 5,
     "metadata": {},
     "output_type": "execute_result"
    }
   ],
   "source": [
    "df.describe()"
   ]
  },
  {
   "cell_type": "code",
   "execution_count": 6,
   "metadata": {},
   "outputs": [
    {
     "data": {
      "text/plain": [
       "1    58548\n",
       "0     1185\n",
       "Name: event, dtype: int64"
      ]
     },
     "execution_count": 6,
     "metadata": {},
     "output_type": "execute_result"
    }
   ],
   "source": [
    "df['event'].value_counts()"
   ]
  },
  {
   "cell_type": "code",
   "execution_count": 7,
   "metadata": {},
   "outputs": [
    {
     "data": {
      "image/png": "[encoded data removed]",
      "text/plain": [
       "<Figure size 432x288 with 1 Axes>"
      ]
     },
     "metadata": {
      "needs_background": "light"
     },
     "output_type": "display_data"
    }
   ],
   "source": [
    "#days in which the user created bad requests\n",
    "\n",
    "plt.rcParams['figure.figsize'] = [6, 4]\n",
    "\n",
    "x = df['days_with_bad_req'].plot.hist(title='days w/ non-human req').set_xticks(np.arange(0,26,1))"
   ]
  },
  {
   "cell_type": "code",
   "execution_count": 8,
   "metadata": {},
   "outputs": [
    {
     "data": {
      "image/png": "[encoded data removed]",
      "text/plain": [
       "<Figure size 432x288 with 1 Axes>"
      ]
     },
     "metadata": {
      "needs_background": "light"
     },
     "output_type": "display_data"
    }
   ],
   "source": [
    "from lifelines import KaplanMeierFitter\n",
    "\n",
    "kmf_breq = KaplanMeierFitter()\n",
    "\n",
    "kmf_breq.fit(df['days_with_bad_req'], event_observed=df['event'])\n",
    "\n",
    "ax = kmf_breq.plot()\n",
    "\n",
    "plt.rcParams['figure.figsize'] = [6, 5]\n",
    "\n",
    "x = set_grid_and_ticks(ax, 21).set_title(\"Days in which requests by device or address are non-human\")"
   ]
  },
  {
   "cell_type": "code",
   "execution_count": 9,
   "metadata": {},
   "outputs": [
    {
     "name": "stdout",
     "output_type": "stream",
     "text": [
      "50% of the population will not make bad req after 1.0 days\n",
      "75% of the population will not make bad req after 2.0 days\n",
      "99% of the population will not make bad req after 9.0 days\n",
      "no one will make bad req after 14.0 days\n"
     ]
    }
   ],
   "source": [
    "\n",
    "print(f'50% of the population will not make bad req after {kmf_breq.percentile(0.50)} days')\n",
    "\n",
    "print(f'75% of the population will not make bad req after {kmf_breq.percentile(0.25)} days')\n",
    "\n",
    "print(f'99% of the population will not make bad req after {kmf_breq.percentile(0.01)} days')\n",
    "\n",
    "print(f'no one will make bad req after {kmf_breq.percentile(0.00)} days')\n"
   ]
  },
  {
   "cell_type": "code",
   "execution_count": 10,
   "metadata": {},
   "outputs": [
    {
     "name": "stdout",
     "output_type": "stream",
     "text": [
      "Probability that device/address takeover continues after 3 days is: 0.14585572331045113\n",
      "Probability that device/address takeover continues after 10 days is: 0.0033031481126646763\n"
     ]
    }
   ],
   "source": [
    "print(f'Probability that device/address takeover continues after 3 days is: {kmf_breq.predict(3)}')\n",
    "\n",
    "print(f'Probability that device/address takeover continues after 10 days is: {kmf_breq.predict(10)}')"
   ]
  },
  {
   "cell_type": "code",
   "execution_count": 19,
   "metadata": {},
   "outputs": [
    {
     "data": {
      "text/html": [
       "<div>\n",
       "<style scoped>\n",
       "    .dataframe tbody tr th:only-of-type {\n",
       "        vertical-align: middle;\n",
       "    }\n",
       "\n",
       "    .dataframe tbody tr th {\n",
       "        vertical-align: top;\n",
       "    }\n",
       "\n",
       "    .dataframe thead th {\n",
       "        text-align: right;\n",
       "    }\n",
       "</style>\n",
       "<table border=\"1\" class=\"dataframe\">\n",
       "  <tbody>\n",
       "    <tr>\n",
       "      <th>model</th>\n",
       "      <td>lifelines.CoxPHFitter</td>\n",
       "    </tr>\n",
       "    <tr>\n",
       "      <th>duration col</th>\n",
       "      <td>'days_with_bad_req'</td>\n",
       "    </tr>\n",
       "    <tr>\n",
       "      <th>event col</th>\n",
       "      <td>'event'</td>\n",
       "    </tr>\n",
       "    <tr>\n",
       "      <th>baseline estimation</th>\n",
       "      <td>breslow</td>\n",
       "    </tr>\n",
       "    <tr>\n",
       "      <th>number of observations</th>\n",
       "      <td>59733</td>\n",
       "    </tr>\n",
       "    <tr>\n",
       "      <th>number of events observed</th>\n",
       "      <td>58548</td>\n",
       "    </tr>\n",
       "    <tr>\n",
       "      <th>partial log-likelihood</th>\n",
       "      <td>-583924.66</td>\n",
       "    </tr>\n",
       "    <tr>\n",
       "      <th>time fit was run</th>\n",
       "      <td>2020-05-03 17:48:04 UTC</td>\n",
       "    </tr>\n",
       "  </tbody>\n",
       "</table>\n",
       "</div><table border=\"1\" class=\"dataframe\">\n",
       "  <thead>\n",
       "    <tr style=\"text-align: right;\">\n",
       "      <th></th>\n",
       "      <th>coef</th>\n",
       "      <th>exp(coef)</th>\n",
       "      <th>se(coef)</th>\n",
       "      <th>coef lower 95%</th>\n",
       "      <th>coef upper 95%</th>\n",
       "      <th>exp(coef) lower 95%</th>\n",
       "      <th>exp(coef) upper 95%</th>\n",
       "      <th>z</th>\n",
       "      <th>p</th>\n",
       "      <th>-log2(p)</th>\n",
       "    </tr>\n",
       "  </thead>\n",
       "  <tbody>\n",
       "    <tr>\n",
       "      <th>req_day</th>\n",
       "      <td>-0.12</td>\n",
       "      <td>0.89</td>\n",
       "      <td>0.00</td>\n",
       "      <td>-0.13</td>\n",
       "      <td>-0.11</td>\n",
       "      <td>0.88</td>\n",
       "      <td>0.89</td>\n",
       "      <td>-31.53</td>\n",
       "      <td>&lt;0.005</td>\n",
       "      <td>722.55</td>\n",
       "    </tr>\n",
       "    <tr>\n",
       "      <th>bad_req_days_rate</th>\n",
       "      <td>0.04</td>\n",
       "      <td>1.04</td>\n",
       "      <td>0.00</td>\n",
       "      <td>0.04</td>\n",
       "      <td>0.05</td>\n",
       "      <td>1.04</td>\n",
       "      <td>1.05</td>\n",
       "      <td>36.18</td>\n",
       "      <td>&lt;0.005</td>\n",
       "      <td>949.70</td>\n",
       "    </tr>\n",
       "  </tbody>\n",
       "</table><div>\n",
       "<style scoped>\n",
       "    .dataframe tbody tr th:only-of-type {\n",
       "        vertical-align: middle;\n",
       "    }\n",
       "\n",
       "    .dataframe tbody tr th {\n",
       "        vertical-align: top;\n",
       "    }\n",
       "\n",
       "    .dataframe thead th {\n",
       "        text-align: right;\n",
       "    }\n",
       "</style>\n",
       "<table border=\"1\" class=\"dataframe\">\n",
       "  <tbody>\n",
       "    <tr>\n",
       "      <th>Concordance</th>\n",
       "      <td>0.68</td>\n",
       "    </tr>\n",
       "    <tr>\n",
       "      <th>Log-likelihood ratio test</th>\n",
       "      <td>6830.90 on 2 df</td>\n",
       "    </tr>\n",
       "    <tr>\n",
       "      <th>-log2(p) of ll-ratio test</th>\n",
       "      <td>inf</td>\n",
       "    </tr>\n",
       "  </tbody>\n",
       "</table>\n",
       "</div>"
      ],
      "text/plain": [
       "<IPython.core.display.HTML object>"
      ]
     },
     "metadata": {},
     "output_type": "display_data"
    }
   ],
   "source": [
    "from lifelines import CoxPHFitter\n",
    "\n",
    "df_reg = df.loc[:,['event','days_with_bad_req','req_day','bad_req_days_rate']]\n",
    "\n",
    "cp = CoxPHFitter()\n",
    "\n",
    "cp.fit(df_reg, duration_col='days_with_bad_req', event_col='event')\n",
    "\n",
    "cp.print_summary()"
   ]
  },
  {
   "cell_type": "raw",
   "metadata": {},
   "source": [
    "\n",
    "bad_req_days_rate - exp(coef) = 1.04\n",
    "that means that one unit increase in bad_req_days_rate (e.g. user makes bad requests in %51 rather than 50% of its active days) increases the hazard of \"death\" - stop making non-human requests -  in 4% meaning that it will be \"gone\" sooner.\n",
    "\n",
    "req_day - exp(coef) = 0.89\n",
    "that means that one unit increase in req_day decreases the hazard of \"death\" in 11% - meaning that it will survive longer.\n"
   ]
  },
  {
   "cell_type": "code",
   "execution_count": 12,
   "metadata": {},
   "outputs": [
    {
     "data": {
      "image/png": "[encoded data removed]",
      "text/plain": [
       "<Figure size 432x360 with 1 Axes>"
      ]
     },
     "metadata": {
      "needs_background": "light"
     },
     "output_type": "display_data"
    }
   ],
   "source": [
    "ax = cp.plot_covariate_groups('bad_req_days_rate', [75, 100], cmap='coolwarm')\n",
    "plt.rcParams['figure.figsize'] = [9, 5]\n",
    "perc_ticks = np.arange(0, 0.9, 0.05)\n",
    "days_ticks = np.arange(0, 24, 2)\n",
    "\n",
    "a = ax.set_xticks(days_ticks)\n",
    "ax.set_xticks(days_ticks, minor=True)\n",
    "a = ax.set_yticks(perc_ticks)\n",
    "ax.set_yticks(perc_ticks, minor=True)\n",
    "ax.grid(alpha=0.6)\n"
   ]
  },
  {
   "cell_type": "code",
   "execution_count": 13,
   "metadata": {},
   "outputs": [
    {
     "name": "stdout",
     "output_type": "stream",
     "text": [
      "   event  days_with_bad_req  req_day  bad_req_days_rate\n",
      "0      0                  2        1                 80\n"
     ]
    }
   ],
   "source": [
    "user_a_df = pd.DataFrame(np.array([0,2,1,80]).reshape(1,-1),\n",
    "                         columns=df_reg.columns)\n",
    "\n",
    "print(user_a_df)"
   ]
  },
  {
   "cell_type": "code",
   "execution_count": 14,
   "metadata": {},
   "outputs": [
    {
     "name": "stdout",
     "output_type": "stream",
     "text": [
      "expected # of days: 4.409125549393767 days\n"
     ]
    },
    {
     "data": {
      "image/png": "[encoded data removed]",
      "text/plain": [
       "<Figure size 360x288 with 1 Axes>"
      ]
     },
     "metadata": {
      "needs_background": "light"
     },
     "output_type": "display_data"
    }
   ],
   "source": [
    "plt.rcParams['figure.figsize'] = [5, 4]\n",
    "\n",
    "surv = cp.predict_survival_function(user_a_df)\n",
    "plt.plot(surv)\n",
    "\n",
    "print(f'expected # of days: {cp.predict_expectation(user_a_df)[0]} days')"
   ]
  },
  {
   "cell_type": "code",
   "execution_count": 15,
   "metadata": {},
   "outputs": [
    {
     "name": "stdout",
     "output_type": "stream",
     "text": [
      "   event  days_with_bad_req  req_day  bad_req_days_rate\n",
      "0      0                  2        1                 95\n"
     ]
    }
   ],
   "source": [
    "user_b_df = pd.DataFrame(np.array([0,2,1,95]).reshape(1,-1), columns=df_reg.columns)\n",
    "print(user_b_df)"
   ]
  },
  {
   "cell_type": "code",
   "execution_count": 16,
   "metadata": {},
   "outputs": [
    {
     "name": "stdout",
     "output_type": "stream",
     "text": [
      "expected # of days with bad requests: 2.3962721878729427 days\n"
     ]
    },
    {
     "data": {
      "image/png": "[encoded data removed]",
      "text/plain": [
       "<Figure size 360x288 with 1 Axes>"
      ]
     },
     "metadata": {
      "needs_background": "light"
     },
     "output_type": "display_data"
    }
   ],
   "source": [
    "surv = cp.predict_survival_function(user_b_df)\n",
    "plt.plot(surv)\n",
    "print(f'expected # of days with bad requests: {cp.predict_expectation(user_b_df)[0]} days')"
   ]
  },
  {
   "cell_type": "code",
   "execution_count": 31,
   "metadata": {},
   "outputs": [
    {
     "data": {
      "text/plain": [
       "Text(0, 10, 'User B - 100%')"
      ]
     },
     "execution_count": 31,
     "metadata": {},
     "output_type": "execute_result"
    },
    {
     "data": {
      "image/png": "[encoded data removed]",
      "text/plain": [
       "<Figure size 360x288 with 1 Axes>"
      ]
     },
     "metadata": {
      "needs_background": "light"
     },
     "output_type": "display_data"
    }
   ],
   "source": [
    "user_a_df = pd.DataFrame(np.array([0,2,1,80]).reshape(1,-1),columns=df_reg.columns)\n",
    "user_b_df = pd.DataFrame(np.array([0,2,1,95]).reshape(1,-1), columns=df_reg.columns)\n",
    "\n",
    "surv = cp.predict_survival_function(user_a_df)\n",
    "plt.plot(surv)\n",
    "surv = cp.predict_survival_function(user_b_df)\n",
    "plt.plot(surv)"
   ]
  },
  {
   "cell_type": "code",
   "execution_count": null,
   "metadata": {},
   "outputs": [],
   "source": []
  }
 ],
 "metadata": {
  "kernelspec": {
   "display_name": "Python 3.7.5 64-bit ('NEWDS': conda)",
   "language": "python",
   "name": "python37564bitnewdscondaa8691905f8854f9c935382783aaefb07"
  },
  "language_info": {
   "codemirror_mode": {
    "name": "ipython",
    "version": 3
   },
   "file_extension": ".py",
   "mimetype": "text/x-python",
   "name": "python",
   "nbconvert_exporter": "python",
   "pygments_lexer": "ipython3",
   "version": "3.7.6"
  }
 },
 "nbformat": 4,
 "nbformat_minor": 2
}
