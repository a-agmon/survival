{
 "cells": [
  {
   "cell_type": "code",
   "execution_count": 157,
   "metadata": {},
   "outputs": [],
   "source": [
    "import pandas as pd\n",
    "import numpy as np\n",
    "import matplotlib.pyplot as plt\n",
    "\n"
   ]
  },
  {
   "cell_type": "code",
   "execution_count": 158,
   "metadata": {},
   "outputs": [],
   "source": [
    "#visualization functions\n",
    "\n",
    "%matplotlib inline\n",
    "plt.rcParams['figure.figsize'] = [8, 6]\n",
    "\n",
    "def set_grid_and_ticks(ax):\n",
    "    perc_ticks = np.arange(0, 1, 0.05)\n",
    "    days_ticks = np.arange(0, 21, 1)\n",
    "    a = ax.set_xticks(days_ticks)\n",
    "    a = ax.set_yticks(perc_ticks)\n",
    "    ax.grid(alpha=0.5)"
   ]
  },
  {
   "cell_type": "code",
   "execution_count": 163,
   "metadata": {},
   "outputs": [],
   "source": [
    "df = pd.read_csv('/users/alonag/LT_surv.csv')"
   ]
  },
  {
   "cell_type": "code",
   "execution_count": 164,
   "metadata": {},
   "outputs": [
    {
     "data": {
      "text/html": [
       "<div>\n",
       "<style scoped>\n",
       "    .dataframe tbody tr th:only-of-type {\n",
       "        vertical-align: middle;\n",
       "    }\n",
       "\n",
       "    .dataframe tbody tr th {\n",
       "        vertical-align: top;\n",
       "    }\n",
       "\n",
       "    .dataframe thead th {\n",
       "        text-align: right;\n",
       "    }\n",
       "</style>\n",
       "<table border=\"1\" class=\"dataframe\">\n",
       "  <thead>\n",
       "    <tr style=\"text-align: right;\">\n",
       "      <th></th>\n",
       "      <th>req_day</th>\n",
       "      <th>bad_req_day</th>\n",
       "      <th>bad_req_rate</th>\n",
       "      <th>user_life</th>\n",
       "      <th>days_with_bad_req</th>\n",
       "      <th>active_days</th>\n",
       "      <th>non_active_days</th>\n",
       "    </tr>\n",
       "  </thead>\n",
       "  <tbody>\n",
       "    <tr>\n",
       "      <th>59724</th>\n",
       "      <td>1.0</td>\n",
       "      <td>1.0</td>\n",
       "      <td>1.0</td>\n",
       "      <td>7</td>\n",
       "      <td>2</td>\n",
       "      <td>2</td>\n",
       "      <td>5</td>\n",
       "    </tr>\n",
       "    <tr>\n",
       "      <th>59725</th>\n",
       "      <td>1.0</td>\n",
       "      <td>1.0</td>\n",
       "      <td>1.0</td>\n",
       "      <td>1</td>\n",
       "      <td>1</td>\n",
       "      <td>1</td>\n",
       "      <td>0</td>\n",
       "    </tr>\n",
       "    <tr>\n",
       "      <th>59726</th>\n",
       "      <td>1.0</td>\n",
       "      <td>1.0</td>\n",
       "      <td>1.0</td>\n",
       "      <td>1</td>\n",
       "      <td>1</td>\n",
       "      <td>1</td>\n",
       "      <td>0</td>\n",
       "    </tr>\n",
       "    <tr>\n",
       "      <th>59727</th>\n",
       "      <td>1.0</td>\n",
       "      <td>1.0</td>\n",
       "      <td>1.0</td>\n",
       "      <td>12</td>\n",
       "      <td>1</td>\n",
       "      <td>1</td>\n",
       "      <td>10</td>\n",
       "    </tr>\n",
       "    <tr>\n",
       "      <th>59728</th>\n",
       "      <td>1.0</td>\n",
       "      <td>1.0</td>\n",
       "      <td>1.0</td>\n",
       "      <td>2</td>\n",
       "      <td>1</td>\n",
       "      <td>1</td>\n",
       "      <td>0</td>\n",
       "    </tr>\n",
       "  </tbody>\n",
       "</table>\n",
       "</div>"
      ],
      "text/plain": [
       "       req_day  bad_req_day  bad_req_rate  user_life  days_with_bad_req  \\\n",
       "59724      1.0          1.0           1.0          7                  2   \n",
       "59725      1.0          1.0           1.0          1                  1   \n",
       "59726      1.0          1.0           1.0          1                  1   \n",
       "59727      1.0          1.0           1.0         12                  1   \n",
       "59728      1.0          1.0           1.0          2                  1   \n",
       "\n",
       "       active_days  non_active_days  \n",
       "59724            2                5  \n",
       "59725            1                0  \n",
       "59726            1                0  \n",
       "59727            1               10  \n",
       "59728            1                0  "
      ]
     },
     "execution_count": 164,
     "metadata": {},
     "output_type": "execute_result"
    }
   ],
   "source": [
    "df.columns = ['ID','req_day','bad_req_day',\n",
    "              'bad_req_rate','user_life','days_with_bad_req',\n",
    "              'active_days','non_active_days']\n",
    "\n",
    "df.iloc[:,1:].tail(5)"
   ]
  },
  {
   "cell_type": "code",
   "execution_count": 165,
   "metadata": {},
   "outputs": [],
   "source": [
    "# add event col\n",
    "df['event'] = [1 if num < 21 else 0 for num in df['user_life']]\n",
    "# add another ratio\n",
    "df['non_active_days_rate'] = df['non_active_days'] / df['active_days']  \n"
   ]
  },
  {
   "cell_type": "code",
   "execution_count": 166,
   "metadata": {},
   "outputs": [
    {
     "data": {
      "text/html": [
       "<div>\n",
       "<style scoped>\n",
       "    .dataframe tbody tr th:only-of-type {\n",
       "        vertical-align: middle;\n",
       "    }\n",
       "\n",
       "    .dataframe tbody tr th {\n",
       "        vertical-align: top;\n",
       "    }\n",
       "\n",
       "    .dataframe thead th {\n",
       "        text-align: right;\n",
       "    }\n",
       "</style>\n",
       "<table border=\"1\" class=\"dataframe\">\n",
       "  <thead>\n",
       "    <tr style=\"text-align: right;\">\n",
       "      <th></th>\n",
       "      <th>req_day</th>\n",
       "      <th>bad_req_day</th>\n",
       "      <th>bad_req_rate</th>\n",
       "      <th>user_life</th>\n",
       "      <th>days_with_bad_req</th>\n",
       "      <th>active_days</th>\n",
       "      <th>non_active_days</th>\n",
       "      <th>event</th>\n",
       "      <th>non_active_days_rate</th>\n",
       "    </tr>\n",
       "  </thead>\n",
       "  <tbody>\n",
       "    <tr>\n",
       "      <th>count</th>\n",
       "      <td>59729.000000</td>\n",
       "      <td>59729.000000</td>\n",
       "      <td>59729.000000</td>\n",
       "      <td>59729.000000</td>\n",
       "      <td>59729.000000</td>\n",
       "      <td>59729.000000</td>\n",
       "      <td>59729.000000</td>\n",
       "      <td>59729.000000</td>\n",
       "      <td>59729.000000</td>\n",
       "    </tr>\n",
       "    <tr>\n",
       "      <th>mean</th>\n",
       "      <td>1.615442</td>\n",
       "      <td>1.564757</td>\n",
       "      <td>0.988017</td>\n",
       "      <td>3.944349</td>\n",
       "      <td>2.030588</td>\n",
       "      <td>2.137722</td>\n",
       "      <td>2.674312</td>\n",
       "      <td>0.990105</td>\n",
       "      <td>0.787557</td>\n",
       "    </tr>\n",
       "    <tr>\n",
       "      <th>std</th>\n",
       "      <td>1.950017</td>\n",
       "      <td>1.829507</td>\n",
       "      <td>0.077426</td>\n",
       "      <td>4.341374</td>\n",
       "      <td>1.659509</td>\n",
       "      <td>2.038321</td>\n",
       "      <td>4.252198</td>\n",
       "      <td>0.098980</td>\n",
       "      <td>1.230605</td>\n",
       "    </tr>\n",
       "    <tr>\n",
       "      <th>min</th>\n",
       "      <td>1.000000</td>\n",
       "      <td>0.000000</td>\n",
       "      <td>0.000000</td>\n",
       "      <td>1.000000</td>\n",
       "      <td>0.000000</td>\n",
       "      <td>1.000000</td>\n",
       "      <td>0.000000</td>\n",
       "      <td>0.000000</td>\n",
       "      <td>0.000000</td>\n",
       "    </tr>\n",
       "    <tr>\n",
       "      <th>25%</th>\n",
       "      <td>1.000000</td>\n",
       "      <td>1.000000</td>\n",
       "      <td>1.000000</td>\n",
       "      <td>1.000000</td>\n",
       "      <td>1.000000</td>\n",
       "      <td>1.000000</td>\n",
       "      <td>0.000000</td>\n",
       "      <td>1.000000</td>\n",
       "      <td>0.000000</td>\n",
       "    </tr>\n",
       "    <tr>\n",
       "      <th>50%</th>\n",
       "      <td>1.000000</td>\n",
       "      <td>1.000000</td>\n",
       "      <td>1.000000</td>\n",
       "      <td>2.000000</td>\n",
       "      <td>1.000000</td>\n",
       "      <td>1.000000</td>\n",
       "      <td>0.000000</td>\n",
       "      <td>1.000000</td>\n",
       "      <td>0.000000</td>\n",
       "    </tr>\n",
       "    <tr>\n",
       "      <th>75%</th>\n",
       "      <td>1.571429</td>\n",
       "      <td>1.500000</td>\n",
       "      <td>1.000000</td>\n",
       "      <td>5.000000</td>\n",
       "      <td>2.000000</td>\n",
       "      <td>2.000000</td>\n",
       "      <td>4.000000</td>\n",
       "      <td>1.000000</td>\n",
       "      <td>1.222222</td>\n",
       "    </tr>\n",
       "    <tr>\n",
       "      <th>max</th>\n",
       "      <td>57.227273</td>\n",
       "      <td>43.500000</td>\n",
       "      <td>1.000000</td>\n",
       "      <td>22.000000</td>\n",
       "      <td>14.000000</td>\n",
       "      <td>22.000000</td>\n",
       "      <td>21.000000</td>\n",
       "      <td>1.000000</td>\n",
       "      <td>12.000000</td>\n",
       "    </tr>\n",
       "  </tbody>\n",
       "</table>\n",
       "</div>"
      ],
      "text/plain": [
       "            req_day   bad_req_day  bad_req_rate     user_life  \\\n",
       "count  59729.000000  59729.000000  59729.000000  59729.000000   \n",
       "mean       1.615442      1.564757      0.988017      3.944349   \n",
       "std        1.950017      1.829507      0.077426      4.341374   \n",
       "min        1.000000      0.000000      0.000000      1.000000   \n",
       "25%        1.000000      1.000000      1.000000      1.000000   \n",
       "50%        1.000000      1.000000      1.000000      2.000000   \n",
       "75%        1.571429      1.500000      1.000000      5.000000   \n",
       "max       57.227273     43.500000      1.000000     22.000000   \n",
       "\n",
       "       days_with_bad_req   active_days  non_active_days         event  \\\n",
       "count       59729.000000  59729.000000     59729.000000  59729.000000   \n",
       "mean            2.030588      2.137722         2.674312      0.990105   \n",
       "std             1.659509      2.038321         4.252198      0.098980   \n",
       "min             0.000000      1.000000         0.000000      0.000000   \n",
       "25%             1.000000      1.000000         0.000000      1.000000   \n",
       "50%             1.000000      1.000000         0.000000      1.000000   \n",
       "75%             2.000000      2.000000         4.000000      1.000000   \n",
       "max            14.000000     22.000000        21.000000      1.000000   \n",
       "\n",
       "       non_active_days_rate  \n",
       "count          59729.000000  \n",
       "mean               0.787557  \n",
       "std                1.230605  \n",
       "min                0.000000  \n",
       "25%                0.000000  \n",
       "50%                0.000000  \n",
       "75%                1.222222  \n",
       "max               12.000000  "
      ]
     },
     "execution_count": 166,
     "metadata": {},
     "output_type": "execute_result"
    }
   ],
   "source": [
    "df.iloc[:,1:].describe()"
   ]
  },
  {
   "cell_type": "code",
   "execution_count": 167,
   "metadata": {},
   "outputs": [
    {
     "data": {
      "text/plain": [
       "1    59138\n",
       "0      591\n",
       "Name: event, dtype: int64"
      ]
     },
     "execution_count": 167,
     "metadata": {},
     "output_type": "execute_result"
    }
   ],
   "source": [
    "df['event'].value_counts()"
   ]
  },
  {
   "cell_type": "code",
   "execution_count": 184,
   "metadata": {},
   "outputs": [
    {
     "data": {
      "image/png": "[encoded data removed]",
      "text/plain": [
       "<Figure size 432x288 with 1 Axes>"
      ]
     },
     "metadata": {
      "needs_background": "light"
     },
     "output_type": "display_data"
    }
   ],
   "source": [
    "#days in which the user created bad requests\n",
    "\n",
    "plt.rcParams['figure.figsize'] = [6, 4]\n",
    "\n",
    "x = df['days_with_bad_req'].plot.hist().set_xticks(np.arange(0,22,1))"
   ]
  },
  {
   "cell_type": "code",
   "execution_count": 180,
   "metadata": {},
   "outputs": [
    {
     "data": {
      "image/png": "[encoded data removed]",
      "text/plain": [
       "<Figure size 432x288 with 1 Axes>"
      ]
     },
     "metadata": {
      "needs_background": "light"
     },
     "output_type": "display_data"
    }
   ],
   "source": [
    "#days in which the user made ANY requests\n",
    "\n",
    "x = df['user_life'].plot.hist().set_xticks(np.arange(0,22,1)) "
   ]
  },
  {
   "cell_type": "code",
   "execution_count": 189,
   "metadata": {},
   "outputs": [
    {
     "data": {
      "image/png": "[encoded data removed]",
      "text/plain": [
       "<Figure size 1296x432 with 2 Axes>"
      ]
     },
     "metadata": {
      "needs_background": "light"
     },
     "output_type": "display_data"
    }
   ],
   "source": [
    "from lifelines import KaplanMeierFitter\n",
    "kmf_life = KaplanMeierFitter()\n",
    "kmf_breq = KaplanMeierFitter()\n",
    "\n",
    "fig, ax = plt.subplots(nrows=1, ncols=2, figsize=(18, 6))\n",
    "\n",
    "kmf_life.fit(df['user_life'], event_observed=df['event'])\n",
    "x = kmf_life.plot(ax=ax[0])\n",
    "set_grid_and_ticks(x)\n",
    "x = ax[0].set_title(\"User Life Duration\")\n",
    "\n",
    "kmf_breq.fit(df['days_with_bad_req'], event_observed=df['event'])\n",
    "x = kmf_breq.plot(ax=ax[1])\n",
    "set_grid_and_ticks(x)\n",
    "x = ax[1].set_title(\"User Bad-Requests Days\")"
   ]
  },
  {
   "cell_type": "code",
   "execution_count": 199,
   "metadata": {},
   "outputs": [
    {
     "name": "stdout",
     "output_type": "stream",
     "text": [
      "5% of the population will make bad requests after 6.0 days\n",
      "75% of the population will make bad requests after 1.0 days\n",
      "50% of the population (median) will make bad requests after 1.0 days\n",
      "-----------------\n",
      "No one will make bad requests after: 14.0 days\n"
     ]
    }
   ],
   "source": [
    "print(f'5% of the population will make bad requests after {kmf_breq.percentile(0.05)} days')\n",
    "print(f'75% of the population will make bad requests after {kmf_breq.percentile(0.75)} days')\n",
    "print(f'50% of the population (median) will make bad requests after {kmf_breq.percentile(0.50)} days')\n",
    "print('-----------------')\n",
    "print(f'No one will make bad requests after: {kmf_breq.percentile(0)} days')"
   ]
  },
  {
   "cell_type": "code",
   "execution_count": 213,
   "metadata": {},
   "outputs": [
    {
     "name": "stdout",
     "output_type": "stream",
     "text": [
      "Probability that user will made BAD requests after 3 days is: 0.0\n",
      "Probability that user will made ANY requests after 3 days is: 0.017612884863299254\n"
     ]
    }
   ],
   "source": [
    "print(f'Probability that user will made BAD requests after 3 days is: {kmf_breq.predict(14)}')\n",
    "print(f'Probability that user will made ANY requests after 3 days is: {kmf_life.predict(14)}')"
   ]
  },
  {
   "cell_type": "code",
   "execution_count": 214,
   "metadata": {},
   "outputs": [
    {
     "data": {
      "text/html": [
       "<div>\n",
       "<style scoped>\n",
       "    .dataframe tbody tr th:only-of-type {\n",
       "        vertical-align: middle;\n",
       "    }\n",
       "\n",
       "    .dataframe tbody tr th {\n",
       "        vertical-align: top;\n",
       "    }\n",
       "\n",
       "    .dataframe thead th {\n",
       "        text-align: right;\n",
       "    }\n",
       "</style>\n",
       "<table border=\"1\" class=\"dataframe\">\n",
       "  <tbody>\n",
       "    <tr>\n",
       "      <th>model</th>\n",
       "      <td>lifelines.CoxPHFitter</td>\n",
       "    </tr>\n",
       "    <tr>\n",
       "      <th>duration col</th>\n",
       "      <td>'days_with_bad_req'</td>\n",
       "    </tr>\n",
       "    <tr>\n",
       "      <th>event col</th>\n",
       "      <td>'event'</td>\n",
       "    </tr>\n",
       "    <tr>\n",
       "      <th>baseline estimation</th>\n",
       "      <td>breslow</td>\n",
       "    </tr>\n",
       "    <tr>\n",
       "      <th>number of observations</th>\n",
       "      <td>59729</td>\n",
       "    </tr>\n",
       "    <tr>\n",
       "      <th>number of events observed</th>\n",
       "      <td>59138</td>\n",
       "    </tr>\n",
       "    <tr>\n",
       "      <th>partial log-likelihood</th>\n",
       "      <td>-578678.96</td>\n",
       "    </tr>\n",
       "    <tr>\n",
       "      <th>time fit was run</th>\n",
       "      <td>2020-04-30 20:56:01 UTC</td>\n",
       "    </tr>\n",
       "  </tbody>\n",
       "</table>\n",
       "</div><table border=\"1\" class=\"dataframe\">\n",
       "  <thead>\n",
       "    <tr style=\"text-align: right;\">\n",
       "      <th></th>\n",
       "      <th>coef</th>\n",
       "      <th>exp(coef)</th>\n",
       "      <th>se(coef)</th>\n",
       "      <th>coef lower 95%</th>\n",
       "      <th>coef upper 95%</th>\n",
       "      <th>exp(coef) lower 95%</th>\n",
       "      <th>exp(coef) upper 95%</th>\n",
       "      <th>z</th>\n",
       "      <th>p</th>\n",
       "      <th>-log2(p)</th>\n",
       "    </tr>\n",
       "  </thead>\n",
       "  <tbody>\n",
       "    <tr>\n",
       "      <th>req_day</th>\n",
       "      <td>-0.17</td>\n",
       "      <td>0.84</td>\n",
       "      <td>0.00</td>\n",
       "      <td>-0.18</td>\n",
       "      <td>-0.16</td>\n",
       "      <td>0.84</td>\n",
       "      <td>0.85</td>\n",
       "      <td>-46.05</td>\n",
       "      <td>&lt;0.005</td>\n",
       "      <td>inf</td>\n",
       "    </tr>\n",
       "    <tr>\n",
       "      <th>bad_req_rate</th>\n",
       "      <td>0.74</td>\n",
       "      <td>2.10</td>\n",
       "      <td>0.08</td>\n",
       "      <td>0.59</td>\n",
       "      <td>0.90</td>\n",
       "      <td>1.80</td>\n",
       "      <td>2.46</td>\n",
       "      <td>9.41</td>\n",
       "      <td>&lt;0.005</td>\n",
       "      <td>67.41</td>\n",
       "    </tr>\n",
       "    <tr>\n",
       "      <th>non_active_days_rate</th>\n",
       "      <td>-0.85</td>\n",
       "      <td>0.43</td>\n",
       "      <td>0.01</td>\n",
       "      <td>-0.87</td>\n",
       "      <td>-0.84</td>\n",
       "      <td>0.42</td>\n",
       "      <td>0.43</td>\n",
       "      <td>-123.82</td>\n",
       "      <td>&lt;0.005</td>\n",
       "      <td>inf</td>\n",
       "    </tr>\n",
       "  </tbody>\n",
       "</table><div>\n",
       "<style scoped>\n",
       "    .dataframe tbody tr th:only-of-type {\n",
       "        vertical-align: middle;\n",
       "    }\n",
       "\n",
       "    .dataframe tbody tr th {\n",
       "        vertical-align: top;\n",
       "    }\n",
       "\n",
       "    .dataframe thead th {\n",
       "        text-align: right;\n",
       "    }\n",
       "</style>\n",
       "<table border=\"1\" class=\"dataframe\">\n",
       "  <tbody>\n",
       "    <tr>\n",
       "      <th>Concordance</th>\n",
       "      <td>0.90</td>\n",
       "    </tr>\n",
       "    <tr>\n",
       "      <th>Log-likelihood ratio test</th>\n",
       "      <td>27452.70 on 3 df</td>\n",
       "    </tr>\n",
       "    <tr>\n",
       "      <th>-log2(p) of ll-ratio test</th>\n",
       "      <td>inf</td>\n",
       "    </tr>\n",
       "  </tbody>\n",
       "</table>\n",
       "</div>"
      ],
      "text/plain": [
       "<IPython.core.display.HTML object>"
      ]
     },
     "metadata": {},
     "output_type": "display_data"
    }
   ],
   "source": [
    "from lifelines import CoxPHFitter\n",
    "\n",
    "df_reg = df.loc[:,['event','req_day','bad_req_rate','non_active_days_rate', 'days_with_bad_req']]\n",
    "cp = CoxPHFitter()\n",
    "cp.fit(df_reg, duration_col='days_with_bad_req', event_col='event')\n",
    "cp.print_summary()"
   ]
  },
  {
   "cell_type": "raw",
   "metadata": {},
   "source": [
    "\n",
    "bad_req_rate - exp(coef) = 2.1\n",
    "that means that one unit increase in bad_req_rate increases the double the chance of the user to be gone\n",
    "\n",
    "req_day - exp(coef) = 0.84\n",
    "that means that one unit increase in req_day decreases the chance that user will be gone in 16%\n"
   ]
  },
  {
   "cell_type": "code",
   "execution_count": 228,
   "metadata": {},
   "outputs": [
    {
     "data": {
      "image/png": "[encoded data removed]",
      "text/plain": [
       "<Figure size 648x360 with 1 Axes>"
      ]
     },
     "metadata": {
      "needs_background": "light"
     },
     "output_type": "display_data"
    }
   ],
   "source": [
    "ax = cp.plot_covariate_groups('bad_req_rate', [0.5, 5], cmap='coolwarm')\n",
    "plt.rcParams['figure.figsize'] = [9, 5]\n",
    "perc_ticks = np.arange(0, 0.9, 0.05)\n",
    "days_ticks = np.arange(0, 24, 2)\n",
    "\n",
    "a = ax.set_xticks(days_ticks)\n",
    "ax.set_xticks(days_ticks, minor=True)\n",
    "a = ax.set_yticks(perc_ticks)\n",
    "ax.set_yticks(perc_ticks, minor=True)\n",
    "ax.grid(alpha=0.6)\n"
   ]
  },
  {
   "cell_type": "code",
   "execution_count": 271,
   "metadata": {},
   "outputs": [],
   "source": [
    "plt.rcParams['figure.figsize'] = [4, 3]\n",
    "\n",
    "def get_sample_user(event, req_day, bad_req_rate, non_active_days_rate, days_with_bad_req):\n",
    "    user = np.array([\n",
    "        event,\n",
    "        req_day,\n",
    "        bad_req_rate,\n",
    "        non_active_days_rate,\n",
    "        days_with_bad_req])"
   ]
  },
  {
   "cell_type": "code",
   "execution_count": 272,
   "metadata": {},
   "outputs": [],
   "source": [
    "plt.rcParams['figure.figsize'] = [4, 3]\n",
    "\n",
    "def get_sample_user(event, req_day, bad_req_rate, non_active_days_rate, days_with_bad_req):\n",
    "    user = np.array([\n",
    "        event,\n",
    "        req_day,\n",
    "        bad_req_rate,\n",
    "        non_active_days_rate,\n",
    "        days_with_bad_req])\n",
    "    \n",
    "    return pd.DataFrame(user.reshape(1,-1),columns=df_reg.columns)"
   ]
  },
  {
   "cell_type": "code",
   "execution_count": 273,
   "metadata": {},
   "outputs": [
    {
     "name": "stdout",
     "output_type": "stream",
     "text": [
      "   event  req_day  bad_req_rate  non_active_days_rate  days_with_bad_req\n",
      "0    0.0     10.0           2.0                   0.3                4.0\n"
     ]
    }
   ],
   "source": [
    "user_a_df = get_sample_user(0,10,2,0.3,4)\n",
    "\n",
    "print(user_a_df)"
   ]
  },
  {
   "cell_type": "code",
   "execution_count": 278,
   "metadata": {},
   "outputs": [
    {
     "name": "stdout",
     "output_type": "stream",
     "text": [
      "expected # of days with bad requests: 2.1991465130749517 days\n"
     ]
    },
    {
     "data": {
      "image/png": "[encoded data removed]",
      "text/plain": [
       "<Figure size 288x216 with 1 Axes>"
      ]
     },
     "metadata": {
      "needs_background": "light"
     },
     "output_type": "display_data"
    }
   ],
   "source": [
    "surv = cp.predict_survival_function(user_a_df)\n",
    "plt.plot(surv)\n",
    "\n",
    "print(f'expected # of days with bad requests: {cp.predict_expectation(user_a_df)[0]} days')"
   ]
  },
  {
   "cell_type": "code",
   "execution_count": 279,
   "metadata": {},
   "outputs": [
    {
     "name": "stdout",
     "output_type": "stream",
     "text": [
      "   event  req_day  bad_req_rate  non_active_days_rate  days_with_bad_req\n",
      "0    0.0     10.0           4.0                   0.3                4.0\n"
     ]
    }
   ],
   "source": [
    "user_b_df = get_sample_user(0,10,4,0.3,4)\n",
    "print(user_b_df)"
   ]
  },
  {
   "cell_type": "code",
   "execution_count": 280,
   "metadata": {},
   "outputs": [
    {
     "name": "stdout",
     "output_type": "stream",
     "text": [
      "expected # of days with bad requests: 0.7955273872143215 days\n"
     ]
    },
    {
     "data": {
      "image/png": "[encoded data removed]",
      "text/plain": [
       "<Figure size 288x216 with 1 Axes>"
      ]
     },
     "metadata": {
      "needs_background": "light"
     },
     "output_type": "display_data"
    }
   ],
   "source": [
    "surv = cp.predict_survival_function(user_b_df)\n",
    "plt.plot(surv)\n",
    "\n",
    "print(f'expected # of days with bad requests: {cp.predict_expectation(user_b_df)[0]} days')"
   ]
  }
 ],
 "metadata": {
  "kernelspec": {
   "display_name": "Python 3.7.5 64-bit ('NEWDS': conda)",
   "language": "python",
   "name": "python37564bitnewdscondaa8691905f8854f9c935382783aaefb07"
  },
  "language_info": {
   "codemirror_mode": {
    "name": "ipython",
    "version": 3
   },
   "file_extension": ".py",
   "mimetype": "text/x-python",
   "name": "python",
   "nbconvert_exporter": "python",
   "pygments_lexer": "ipython3",
   "version": "3.7.6"
  }
 },
 "nbformat": 4,
 "nbformat_minor": 2
}
